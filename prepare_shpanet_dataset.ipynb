{
 "cells": [
  {
   "cell_type": "code",
   "execution_count": null,
   "outputs": [],
   "source": [
    "# Download form HF\n",
    "# !git clone git@hf.co:datasets/ShapeNet/ShapeNetCore"
   ],
   "metadata": {
    "collapsed": false
   },
   "id": "6aa71288c65ea7aa"
  },
  {
   "cell_type": "code",
   "execution_count": 10,
   "outputs": [],
   "source": [
    "import np\n",
    "from tqdm.auto import tqdm\n",
    "import os\n",
    "import zipfile\n",
    "\n",
    "def unzip_files(folder_path, extract_base = ''):\n",
    "    # Get the list of zip files in the specified folder\n",
    "    zip_files = [f for f in os.listdir(folder_path) if f.endswith('.zip')]\n",
    "\n",
    "    # Create a folder for each zip file and extract its contents\n",
    "    for zip_file in tqdm(zip_files):\n",
    "        zip_file_path = os.path.join(folder_path, zip_file)\n",
    "        extract_folder = os.path.join(extract_base, os.path.splitext(zip_file)[0])\n",
    "\n",
    "        # Create a folder with the same name as the zip file\n",
    "        os.makedirs(extract_folder, exist_ok=True)\n",
    "\n",
    "        # Extract the contents of the zip file into the created folder\n",
    "        with zipfile.ZipFile(zip_file_path, 'r') as zip_ref:\n",
    "            zip_ref.extractall(extract_folder)\n",
    "\n",
    "        print(f\"Extracted {zip_file} into {extract_folder}\")"
   ],
   "metadata": {
    "collapsed": false,
    "ExecuteTime": {
     "end_time": "2023-11-17T15:25:39.431922Z",
     "start_time": "2023-11-17T15:25:39.310825Z"
    }
   },
   "id": "6e9c61431b66b679"
  },
  {
   "cell_type": "code",
   "execution_count": null,
   "outputs": [],
   "source": [
    "# unzip_files('data/ShapeNetCore', extract_base='data/ShapeNetCore_unziped')"
   ],
   "metadata": {
    "collapsed": false
   },
   "id": "d543164bd86580a1"
  },
  {
   "cell_type": "code",
   "execution_count": 2,
   "id": "initial_id",
   "metadata": {
    "collapsed": true,
    "ExecuteTime": {
     "end_time": "2023-11-17T15:54:35.122414Z",
     "start_time": "2023-11-17T15:54:35.116563Z"
    }
   },
   "outputs": [],
   "source": [
    "import json\n",
    "taxonomy = json.load(open('data/shapenetcore.taxonomy.json'))"
   ]
  },
  {
   "cell_type": "code",
   "execution_count": 3,
   "outputs": [
    {
     "data": {
      "text/plain": "{'numInstances': 4045,\n 'name': '02691156',\n 'numChildren': 11,\n 'label': 'airplane,aeroplane,plane'}"
     },
     "execution_count": 3,
     "metadata": {},
     "output_type": "execute_result"
    }
   ],
   "source": [
    "taxonomy[0]['metadata']"
   ],
   "metadata": {
    "collapsed": false,
    "ExecuteTime": {
     "end_time": "2023-11-17T15:54:36.168739Z",
     "start_time": "2023-11-17T15:54:36.165400Z"
    }
   },
   "id": "3017402a054710ef"
  },
  {
   "cell_type": "code",
   "execution_count": 4,
   "outputs": [],
   "source": [
    "tax_map = { tax['metadata']['name']:tax['metadata']['label'] + '\\n' + tax['li_attr']['title'].replace('\\n', '').strip() for tax in taxonomy}"
   ],
   "metadata": {
    "collapsed": false,
    "ExecuteTime": {
     "end_time": "2023-11-17T15:54:37.889693Z",
     "start_time": "2023-11-17T15:54:37.883972Z"
    }
   },
   "id": "a0411ba5737f3406"
  },
  {
   "cell_type": "code",
   "execution_count": 5,
   "outputs": [],
   "source": [
    "# Add missing key for cellphone\n",
    "tax_map['02992529'] = \"cellphone,mobile,mobilephone,phone\\na handheld device used by people for telecommunication\""
   ],
   "metadata": {
    "collapsed": false,
    "ExecuteTime": {
     "end_time": "2023-11-17T15:54:39.420220Z",
     "start_time": "2023-11-17T15:54:39.413561Z"
    }
   },
   "id": "56298c52c821b81f"
  },
  {
   "cell_type": "code",
   "execution_count": 15,
   "outputs": [
    {
     "name": "stderr",
     "output_type": "stream",
     "text": [
      "/Users/kostyalbalint/Documents/Egyetem/7.Felev/Szakdolgozat/diffusion-point-cloud/venv/lib/python3.9/site-packages/urllib3/__init__.py:34: NotOpenSSLWarning: urllib3 v2.0 only supports OpenSSL 1.1.1+, currently the 'ssl' module is compiled with 'LibreSSL 2.8.3'. See: https://github.com/urllib3/urllib3/issues/3020\n",
      "  warnings.warn(\n"
     ]
    }
   ],
   "source": [
    "import torch\n",
    "from transformers import BertTokenizerFast, BertModel\n",
    "\n",
    "tokenizer = BertTokenizerFast.from_pretrained(\"setu4993/LEALLA-small\")\n",
    "model = BertModel.from_pretrained(\"setu4993/LEALLA-small\").to('mps')\n",
    "model = model.eval()\n",
    "\n",
    "\n",
    "def tokenize_sentences(sentences):\n",
    "    english_inputs = tokenizer(sentences, return_tensors=\"pt\", padding=True, max_length=512, truncation=True).to('mps')\n",
    "    with torch.no_grad():\n",
    "        english_outputs = model(**english_inputs).pooler_output\n",
    "\n",
    "    return english_outputs.cpu().numpy()"
   ],
   "metadata": {
    "collapsed": false,
    "ExecuteTime": {
     "end_time": "2023-11-17T15:57:17.925213Z",
     "start_time": "2023-11-17T15:57:13.872843Z"
    }
   },
   "id": "7277fe829e33158c"
  },
  {
   "cell_type": "code",
   "execution_count": 16,
   "outputs": [],
   "source": [
    "import numpy as np\n",
    "\n",
    "tokenized_taxonomy = tokenize_sentences(list(tax_map.values()))\n",
    "tokenized_taxonomy_map = {val: {'sentece': list(tax_map.values())[i], 'tokens': tokenized_taxonomy[i]} for i, val in enumerate(list(tax_map.keys()))}\n",
    "\n",
    "np.save('data/shapnet_tokenized', tokenized_taxonomy_map)"
   ],
   "metadata": {
    "collapsed": false,
    "ExecuteTime": {
     "end_time": "2023-11-17T15:57:18.421740Z",
     "start_time": "2023-11-17T15:57:17.921109Z"
    }
   },
   "id": "ad03d39dae4f243"
  },
  {
   "cell_type": "code",
   "execution_count": 1,
   "outputs": [
    {
     "ename": "NameError",
     "evalue": "name 'tax_map' is not defined",
     "output_type": "error",
     "traceback": [
      "\u001B[0;31m---------------------------------------------------------------------------\u001B[0m",
      "\u001B[0;31mNameError\u001B[0m                                 Traceback (most recent call last)",
      "Cell \u001B[0;32mIn[1], line 1\u001B[0m\n\u001B[0;32m----> 1\u001B[0m \u001B[43mtax_map\u001B[49m\n",
      "\u001B[0;31mNameError\u001B[0m: name 'tax_map' is not defined"
     ]
    }
   ],
   "source": [
    "tax_map"
   ],
   "metadata": {
    "collapsed": false,
    "ExecuteTime": {
     "end_time": "2023-11-17T15:54:28.460726Z",
     "start_time": "2023-11-17T15:54:28.246026Z"
    }
   },
   "id": "13f826008c422430"
  },
  {
   "cell_type": "code",
   "execution_count": 6,
   "outputs": [],
   "source": [
    "import os\n",
    "\n",
    "def find_obj_files(folder_path):\n",
    "    obj_files = []\n",
    "    for root, dirs, files in os.walk(folder_path):\n",
    "        for file in files:\n",
    "            if file.lower().endswith(\".obj\"):\n",
    "                obj_files.append(os.path.join(root, file))\n",
    "    return obj_files\n",
    "\n",
    "obj_files = find_obj_files('data/ShapeNetCore_unziped')"
   ],
   "metadata": {
    "collapsed": false,
    "ExecuteTime": {
     "end_time": "2023-11-17T15:54:59.019790Z",
     "start_time": "2023-11-17T15:54:50.037059Z"
    }
   },
   "id": "f8fe054bc9873615"
  },
  {
   "cell_type": "code",
   "execution_count": 7,
   "outputs": [],
   "source": [
    "from os import path\n",
    "\n",
    "tax = [{\n",
    "    'id': file.split('/')[4],\n",
    "    'category': file.split('/')[2],\n",
    "    'obj': '/'.join(file.split('/')[2:]),\n",
    "    'text': tax_map[file.split('/')[3]]\n",
    "} for file in obj_files]"
   ],
   "metadata": {
    "collapsed": false,
    "ExecuteTime": {
     "end_time": "2023-11-17T15:55:04.465787Z",
     "start_time": "2023-11-17T15:55:04.348892Z"
    }
   },
   "id": "67f36bccd925ec80"
  },
  {
   "cell_type": "code",
   "execution_count": 17,
   "outputs": [],
   "source": [
    "import numpy as np\n",
    "\n",
    "np.save('data/shapnet_tokenized', {\n",
    "    'taxonomy_map': tax,\n",
    "    'tokenized_taxonomy': tokenized_taxonomy_map\n",
    "})"
   ],
   "metadata": {
    "collapsed": false,
    "ExecuteTime": {
     "end_time": "2023-11-17T15:57:21.176534Z",
     "start_time": "2023-11-17T15:57:21.123607Z"
    }
   },
   "id": "804a2cb95bff63"
  },
  {
   "cell_type": "code",
   "execution_count": 21,
   "outputs": [
    {
     "data": {
      "text/plain": "                                 fullId  wnsynset  \\\n0      e3a0391e9fdb7671fdb7801f07fef3bd  02808440   \n1      19da369ff1db9ecd670204dee97dc037  02808440   \n2      f9fe136c1738dcb1ec3cc26553cfa06b  02808440   \n3      dd49561080df1a3f798df87163b1956c  02808440   \n4      beafc45419f70db3252e0775cff1c394  02808440   \n...                                 ...       ...   \n55490   27f58201df188ce0c76e1e2d1feb4ae  02801938   \n55491    34fd44c46f40044339da77d05979b2  02801938   \n55492  e3bae8da192ab3d4a17ae19fa77775ff  02801938   \n55493  dafcdefea7e1445edce1af5c27e3da18  02801938   \n55494  55f00572c277b1876effbd64ad6b71b8  02801938   \n\n                           wnlemmas                   up  \\\n0      bathtub,bathing tub,bath,tub        0.0\\,0.0\\,1.0   \n1      bathtub,bathing tub,bath,tub  0.0\\,0.0\\,1.0000001   \n2      bathtub,bathing tub,bath,tub        0.0\\,0.0\\,1.0   \n3      bathtub,bathing tub,bath,tub        0.0\\,0.0\\,1.0   \n4      bathtub,bathing tub,bath,tub        0.0\\,0.0\\,1.0   \n...                             ...                  ...   \n55490             basket,handbasket        0.0\\,0.0\\,1.0   \n55491             basket,handbasket  0.0\\,0.0\\,1.0000001   \n55492             basket,handbasket        0.0\\,0.0\\,1.0   \n55493             basket,handbasket        0.0\\,0.0\\,1.0   \n55494             basket,handbasket        0.0\\,0.0\\,1.0   \n\n                      front                                 name  tags  \n0             0.0\\,1.0\\,0.0                         bathtub boat   NaN  \n1      0.0\\,-1.0000001\\,0.0                 Freestanding Bathtub   NaN  \n2            0.0\\,-1.0\\,0.0      Villeroy & Boch Oberon 190x90cm   NaN  \n3            0.0\\,-1.0\\,0.0                  Toto Nexus Bath Tub   NaN  \n4            0.0\\,-1.0\\,0.0                              bathtub   NaN  \n...                     ...                                  ...   ...  \n55490         0.0\\,1.0\\,0.0                        easter basket   NaN  \n55491   0.0\\,1.0000001\\,0.0                        odpadkový koš   NaN  \n55492        -1.0\\,0.0\\,0.0         Stratton Daybed Pottery barn   NaN  \n55493        -1.0\\,0.0\\,0.0  Balloon basket with 6\" keepout area   NaN  \n55494         0.0\\,1.0\\,0.0                  TITOK - Sale Basket   NaN  \n\n[55495 rows x 7 columns]",
      "text/html": "<div>\n<style scoped>\n    .dataframe tbody tr th:only-of-type {\n        vertical-align: middle;\n    }\n\n    .dataframe tbody tr th {\n        vertical-align: top;\n    }\n\n    .dataframe thead th {\n        text-align: right;\n    }\n</style>\n<table border=\"1\" class=\"dataframe\">\n  <thead>\n    <tr style=\"text-align: right;\">\n      <th></th>\n      <th>fullId</th>\n      <th>wnsynset</th>\n      <th>wnlemmas</th>\n      <th>up</th>\n      <th>front</th>\n      <th>name</th>\n      <th>tags</th>\n    </tr>\n  </thead>\n  <tbody>\n    <tr>\n      <th>0</th>\n      <td>e3a0391e9fdb7671fdb7801f07fef3bd</td>\n      <td>02808440</td>\n      <td>bathtub,bathing tub,bath,tub</td>\n      <td>0.0\\,0.0\\,1.0</td>\n      <td>0.0\\,1.0\\,0.0</td>\n      <td>bathtub boat</td>\n      <td>NaN</td>\n    </tr>\n    <tr>\n      <th>1</th>\n      <td>19da369ff1db9ecd670204dee97dc037</td>\n      <td>02808440</td>\n      <td>bathtub,bathing tub,bath,tub</td>\n      <td>0.0\\,0.0\\,1.0000001</td>\n      <td>0.0\\,-1.0000001\\,0.0</td>\n      <td>Freestanding Bathtub</td>\n      <td>NaN</td>\n    </tr>\n    <tr>\n      <th>2</th>\n      <td>f9fe136c1738dcb1ec3cc26553cfa06b</td>\n      <td>02808440</td>\n      <td>bathtub,bathing tub,bath,tub</td>\n      <td>0.0\\,0.0\\,1.0</td>\n      <td>0.0\\,-1.0\\,0.0</td>\n      <td>Villeroy &amp; Boch Oberon 190x90cm</td>\n      <td>NaN</td>\n    </tr>\n    <tr>\n      <th>3</th>\n      <td>dd49561080df1a3f798df87163b1956c</td>\n      <td>02808440</td>\n      <td>bathtub,bathing tub,bath,tub</td>\n      <td>0.0\\,0.0\\,1.0</td>\n      <td>0.0\\,-1.0\\,0.0</td>\n      <td>Toto Nexus Bath Tub</td>\n      <td>NaN</td>\n    </tr>\n    <tr>\n      <th>4</th>\n      <td>beafc45419f70db3252e0775cff1c394</td>\n      <td>02808440</td>\n      <td>bathtub,bathing tub,bath,tub</td>\n      <td>0.0\\,0.0\\,1.0</td>\n      <td>0.0\\,-1.0\\,0.0</td>\n      <td>bathtub</td>\n      <td>NaN</td>\n    </tr>\n    <tr>\n      <th>...</th>\n      <td>...</td>\n      <td>...</td>\n      <td>...</td>\n      <td>...</td>\n      <td>...</td>\n      <td>...</td>\n      <td>...</td>\n    </tr>\n    <tr>\n      <th>55490</th>\n      <td>27f58201df188ce0c76e1e2d1feb4ae</td>\n      <td>02801938</td>\n      <td>basket,handbasket</td>\n      <td>0.0\\,0.0\\,1.0</td>\n      <td>0.0\\,1.0\\,0.0</td>\n      <td>easter basket</td>\n      <td>NaN</td>\n    </tr>\n    <tr>\n      <th>55491</th>\n      <td>34fd44c46f40044339da77d05979b2</td>\n      <td>02801938</td>\n      <td>basket,handbasket</td>\n      <td>0.0\\,0.0\\,1.0000001</td>\n      <td>0.0\\,1.0000001\\,0.0</td>\n      <td>odpadkový koš</td>\n      <td>NaN</td>\n    </tr>\n    <tr>\n      <th>55492</th>\n      <td>e3bae8da192ab3d4a17ae19fa77775ff</td>\n      <td>02801938</td>\n      <td>basket,handbasket</td>\n      <td>0.0\\,0.0\\,1.0</td>\n      <td>-1.0\\,0.0\\,0.0</td>\n      <td>Stratton Daybed Pottery barn</td>\n      <td>NaN</td>\n    </tr>\n    <tr>\n      <th>55493</th>\n      <td>dafcdefea7e1445edce1af5c27e3da18</td>\n      <td>02801938</td>\n      <td>basket,handbasket</td>\n      <td>0.0\\,0.0\\,1.0</td>\n      <td>-1.0\\,0.0\\,0.0</td>\n      <td>Balloon basket with 6\" keepout area</td>\n      <td>NaN</td>\n    </tr>\n    <tr>\n      <th>55494</th>\n      <td>55f00572c277b1876effbd64ad6b71b8</td>\n      <td>02801938</td>\n      <td>basket,handbasket</td>\n      <td>0.0\\,0.0\\,1.0</td>\n      <td>0.0\\,1.0\\,0.0</td>\n      <td>TITOK - Sale Basket</td>\n      <td>NaN</td>\n    </tr>\n  </tbody>\n</table>\n<p>55495 rows × 7 columns</p>\n</div>"
     },
     "execution_count": 21,
     "metadata": {},
     "output_type": "execute_result"
    }
   ],
   "source": [
    "import os\n",
    "import pandas as pd\n",
    "\n",
    "# Specify the path to the folder containing your CSV files\n",
    "folder_path = 'data/shapenet_metadata'\n",
    "\n",
    "# Get a list of all CSV files in the folder\n",
    "csv_files = [file for file in os.listdir(folder_path) if file.endswith('.csv')]\n",
    "\n",
    "# Initialize an empty list to store individual DataFrames\n",
    "dfs = []\n",
    "\n",
    "# Loop through each CSV file and read it into a DataFrame, then add it to the list\n",
    "for file in csv_files:\n",
    "    file_path = os.path.join(folder_path, file)\n",
    "    df = pd.read_csv(file_path)\n",
    "    dfs.append(df)\n",
    "\n",
    "# Concatenate the list of DataFrames into a single DataFrame\n",
    "combined_data = pd.concat(dfs, ignore_index=True)\n",
    "\n",
    "# Now combined_data contains the data from all CSV files in the folder\n",
    "combined_data['fullId'] = combined_data['fullId'].str.replace('3dw.', '')\n",
    "\n",
    "combined_data"
   ],
   "metadata": {
    "collapsed": false,
    "ExecuteTime": {
     "end_time": "2023-11-17T15:28:05.243926Z",
     "start_time": "2023-11-17T15:28:05.075745Z"
    }
   },
   "id": "b9c7dffba2ab4f6"
  },
  {
   "cell_type": "code",
   "execution_count": 24,
   "outputs": [
    {
     "data": {
      "text/plain": "{'id': 'eecbec1d6360c2c77b4c98ce79dd9c8f',\n 'category': '04468005',\n 'obj': '04468005/04468005/eecbec1d6360c2c77b4c98ce79dd9c8f/models/model_normalized.obj',\n 'text': \"train,railroad train\\npublic transport provided by a line of railway cars coupled together and drawn by a locomotive; 'express trains don't stop at Princeton Junction'\"}"
     },
     "execution_count": 24,
     "metadata": {},
     "output_type": "execute_result"
    }
   ],
   "source": [
    "tax[0]"
   ],
   "metadata": {
    "collapsed": false,
    "ExecuteTime": {
     "end_time": "2023-11-17T15:30:08.461013Z",
     "start_time": "2023-11-17T15:30:08.455624Z"
    }
   },
   "id": "73fce7845d2fabed"
  },
  {
   "cell_type": "code",
   "execution_count": 26,
   "outputs": [
    {
     "name": "stdout",
     "output_type": "stream",
     "text": [
      "125\n"
     ]
    }
   ],
   "source": [
    "c = 0\n",
    "for t in tax:\n",
    "    if(len(df[df['fullId'].str.contains(t['id'])]) > 0):\n",
    "        c = c + 1\n",
    "print(c)"
   ],
   "metadata": {
    "collapsed": false,
    "ExecuteTime": {
     "end_time": "2023-11-17T15:31:17.947180Z",
     "start_time": "2023-11-17T15:31:10.873944Z"
    }
   },
   "id": "833490ba5999d797"
  }
 ],
 "metadata": {
  "kernelspec": {
   "display_name": "Python 3",
   "language": "python",
   "name": "python3"
  },
  "language_info": {
   "codemirror_mode": {
    "name": "ipython",
    "version": 2
   },
   "file_extension": ".py",
   "mimetype": "text/x-python",
   "name": "python",
   "nbconvert_exporter": "python",
   "pygments_lexer": "ipython2",
   "version": "2.7.6"
  }
 },
 "nbformat": 4,
 "nbformat_minor": 5
}

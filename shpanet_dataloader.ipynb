{
 "cells": [
  {
   "cell_type": "code",
   "execution_count": 16,
   "id": "initial_id",
   "metadata": {
    "collapsed": true,
    "ExecuteTime": {
     "end_time": "2023-11-15T19:29:22.591575Z",
     "start_time": "2023-11-15T19:29:16.714567Z"
    }
   },
   "outputs": [],
   "source": [
    "from utils.dataset import ShapeNetCore, all_categories\n",
    "\n",
    "dataset_path =  'data/shapenet.hdf5'\n",
    "\n",
    "train_dset = ShapeNetCore(\n",
    "    path=dataset_path,\n",
    "    cates=all_categories,\n",
    "    split='train',\n",
    "    scale_mode='shape_unit',\n",
    "    transform=None,\n",
    ")"
   ]
  },
  {
   "cell_type": "code",
   "execution_count": 55,
   "outputs": [
    {
     "name": "stdout",
     "output_type": "stream",
     "text": [
      "<HDF5 dataset \"test\": shape (607, 2048, 3), type \"<f4\">\n"
     ]
    }
   ],
   "source": [
    "import h5py\n",
    "\n",
    "with h5py.File(dataset_path , 'r') as f:\n",
    "    print(f['02691156']['test'])"
   ],
   "metadata": {
    "collapsed": false,
    "ExecuteTime": {
     "end_time": "2023-11-15T19:43:57.234902Z",
     "start_time": "2023-11-15T19:43:57.231210Z"
    }
   },
   "id": "f8fe054bc9873615"
  }
 ],
 "metadata": {
  "kernelspec": {
   "display_name": "Python 3",
   "language": "python",
   "name": "python3"
  },
  "language_info": {
   "codemirror_mode": {
    "name": "ipython",
    "version": 2
   },
   "file_extension": ".py",
   "mimetype": "text/x-python",
   "name": "python",
   "nbconvert_exporter": "python",
   "pygments_lexer": "ipython2",
   "version": "2.7.6"
  }
 },
 "nbformat": 4,
 "nbformat_minor": 5
}

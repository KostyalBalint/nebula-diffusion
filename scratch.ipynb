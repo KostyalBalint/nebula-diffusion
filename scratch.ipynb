{
 "cells": [
  {
   "cell_type": "code",
   "execution_count": 26,
   "id": "initial_id",
   "metadata": {
    "collapsed": true,
    "ExecuteTime": {
     "end_time": "2023-11-04T16:00:43.063388Z",
     "start_time": "2023-11-04T16:00:27.317623Z"
    }
   },
   "outputs": [],
   "source": [
    "from utils.objaverse_dataset import ObjaversePointCloudDataset\n",
    "\n",
    "annotations_file = '/Users/kostyalbalint/Documents/Egyetem/7.Felev/Szakdolgozat/objaverse_labeling/concatenated_annotations.npy'\n",
    "pc_dir = '/Users/kostyalbalint/Documents/Egyetem/7.Felev/Szakdolgozat/pointCloudsNoColor'\n",
    "\n",
    "dataset = ObjaversePointCloudDataset(annotations_file=annotations_file, pc_dir=pc_dir, split='train', scale_mode='shape_unit', name_filter='table', load_to_mem=True) #4s 225ms"
   ]
  },
  {
   "cell_type": "code",
   "execution_count": 24,
   "outputs": [
    {
     "name": "stdout",
     "output_type": "stream",
     "text": [
      "31337\n"
     ]
    }
   ],
   "source": [
    "print(dataset.__len__())"
   ],
   "metadata": {
    "collapsed": false,
    "ExecuteTime": {
     "end_time": "2023-11-04T15:59:39.324289Z",
     "start_time": "2023-11-04T15:59:39.321147Z"
    }
   },
   "id": "d3cea9b79913c6c0"
  },
  {
   "cell_type": "code",
   "execution_count": 28,
   "outputs": [],
   "source": [
    "items = []\n",
    "for i in range(dataset.__len__()):\n",
    "    items.append(dataset.__getitem__(i)) # 25s 395ms"
   ],
   "metadata": {
    "collapsed": false,
    "ExecuteTime": {
     "end_time": "2023-11-04T16:01:05.489577Z",
     "start_time": "2023-11-04T16:01:00.788916Z"
    }
   },
   "id": "f0575638b2ea4914"
  },
  {
   "cell_type": "code",
   "execution_count": 3,
   "outputs": [],
   "source": [
    "from utils.dataset import ShapeNetCore\n",
    "\n",
    "dataset_path = './data/shapenet.hdf5'\n",
    "categories = ['motorcycle']\n",
    "scale_mode = 'shape_unit'\n",
    "\n",
    "train_dset = ShapeNetCore(\n",
    "    path=dataset_path,\n",
    "    cates=categories,\n",
    "    split='train',\n",
    "    scale_mode=scale_mode,\n",
    ")"
   ],
   "metadata": {
    "collapsed": false,
    "ExecuteTime": {
     "end_time": "2023-11-03T19:56:56.279838Z",
     "start_time": "2023-11-03T19:56:56.200123Z"
    }
   },
   "id": "72d189cdbd6f3662"
  },
  {
   "cell_type": "code",
   "execution_count": 4,
   "outputs": [
    {
     "data": {
      "text/plain": "286"
     },
     "execution_count": 4,
     "metadata": {},
     "output_type": "execute_result"
    }
   ],
   "source": [
    "train_dset.__len__()"
   ],
   "metadata": {
    "collapsed": false,
    "ExecuteTime": {
     "end_time": "2023-11-03T19:56:56.283708Z",
     "start_time": "2023-11-03T19:56:56.281362Z"
    }
   },
   "id": "f785a3b3834557da"
  }
 ],
 "metadata": {
  "kernelspec": {
   "display_name": "Python 3",
   "language": "python",
   "name": "python3"
  },
  "language_info": {
   "codemirror_mode": {
    "name": "ipython",
    "version": 2
   },
   "file_extension": ".py",
   "mimetype": "text/x-python",
   "name": "python",
   "nbconvert_exporter": "python",
   "pygments_lexer": "ipython2",
   "version": "2.7.6"
  }
 },
 "nbformat": 4,
 "nbformat_minor": 5
}
